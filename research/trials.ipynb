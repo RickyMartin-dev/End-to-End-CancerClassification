{
 "cells": [
  {
   "cell_type": "code",
   "execution_count": 6,
   "metadata": {},
   "outputs": [],
   "source": [
    "# Testing the Download of the data from google drive\n",
    "\n",
    "import gdown"
   ]
  },
  {
   "cell_type": "code",
   "execution_count": 7,
   "metadata": {},
   "outputs": [],
   "source": [
    "# url of file\n",
    "url = \"https://drive.google.com/file/d/1JTOSw3-wfeUuQHmNkxZCmKOJqt9Kkt3c/view?usp=share_link\"\n",
    "\n",
    "# extract file id\n",
    "file_id = url.split(\"/\")[-2]\n",
    "\n",
    "# download prefix url \n",
    "prefix = \"https://drive.google.com/uc?/export=download&id=\""
   ]
  },
  {
   "cell_type": "code",
   "execution_count": 8,
   "metadata": {},
   "outputs": [
    {
     "name": "stderr",
     "output_type": "stream",
     "text": [
      "Downloading...\n",
      "From (original): https://drive.google.com/uc?/export=download&id=1JTOSw3-wfeUuQHmNkxZCmKOJqt9Kkt3c\n",
      "From (redirected): https://drive.google.com/uc?%2Fexport=download&id=1JTOSw3-wfeUuQHmNkxZCmKOJqt9Kkt3c&confirm=t&uuid=cd103ab8-d822-4db4-84ab-d8358f651ad6\n",
      "To: /Users/ricky/Desktop/Finally_Productive/end-to-end_1of3_ChestCancerTSClassification/End-to-End-CancerClassification/research/Chest-CT-Scan-data.zip\n",
      "100%|██████████| 125M/125M [00:18<00:00, 6.78MB/s] \n"
     ]
    },
    {
     "data": {
      "text/plain": [
       "'Chest-CT-Scan-data.zip'"
      ]
     },
     "execution_count": 8,
     "metadata": {},
     "output_type": "execute_result"
    }
   ],
   "source": [
    "# Download the file\n",
    "gdown.download(prefix + file_id, \"Chest-CT-Scan-data.zip\")"
   ]
  },
  {
   "cell_type": "code",
   "execution_count": null,
   "metadata": {},
   "outputs": [],
   "source": []
  }
 ],
 "metadata": {
  "kernelspec": {
   "display_name": "Python 3.8.20 ('cancer')",
   "language": "python",
   "name": "python3"
  },
  "language_info": {
   "codemirror_mode": {
    "name": "ipython",
    "version": 3
   },
   "file_extension": ".py",
   "mimetype": "text/x-python",
   "name": "python",
   "nbconvert_exporter": "python",
   "pygments_lexer": "ipython3",
   "version": "3.8.20"
  },
  "orig_nbformat": 4,
  "vscode": {
   "interpreter": {
    "hash": "b9e8140a6bc90e5f91ccfa98cf81e3b74dc2a298b6e60e1209b9f65c0936092f"
   }
  }
 },
 "nbformat": 4,
 "nbformat_minor": 2
}
